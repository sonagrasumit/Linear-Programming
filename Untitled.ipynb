{
 "cells": [
  {
   "cell_type": "markdown",
   "metadata": {},
   "source": [
    "<h3>Linear Programming</h3>\n",
    "\n",
    "Linear programming describes a broad class of optimization tasks in which both the constraints and the optimization criteion are <b>linear funtions</b><br>\n",
    "In a linear programming problem we are given a set of variables, and we want to assign real values to them so as to:\n",
    "<ul><li>Satisfy a set of linear equations and/or linear inequalities involving these variables.</li>\n",
    "    <li>Maximize or Minimize a given linear objective function.</li></ul>\n",
    "\n",
    "<b>Basic Terminologies of Linear Programming</b><br>\n",
    "<ul><li><b>Decision Variables</b><br>\n",
    "    Decision variables describe the quantities that the decision makers would like to determine.</li>\n",
    "    <li><b>Objective Function</b><br>\n",
    "        The objective function evaluates some quantitive criterion of immediate importance.</li>\n",
    "    <li><b>Constraints</b><br>\n",
    "        A constraint is an inequality or equality defining limitations on decision variables.</li>\n",
    "    <li><b>Infeasible Linear Program</b><br>\n",
    "        The linear program is infeasible, that is, the constraints are so tight that it is impossible to satisfy all of them</li>\n",
    "    <li><b>Unbounded</b><br>\n",
    "        The constraints are so loose that the feasible region is unbounded, and it is possible to achieve arbitrarily high objective values</li></ul>\n",
    "\n",
    "Linear programming program can solved using many methods like <i>(it mainly depends on the complexity of a problem)</i>:\n",
    "<ul><li>Graphical Method</li>\n",
    "    <li>Simplex Mehod</li>\n",
    "    <li>Northwest Corner Method and Least Cost Method</li></ul>"
   ]
  },
  {
   "cell_type": "markdown",
   "metadata": {},
   "source": [
    "<b>Problem Statement</b><br>\n",
    "\n",
    "A car company produces 2 models, model A and model B. Long-term projections indicate an expected demand of at least 100 model A cars and 80 model B cars each day. Because of limitations on production capacity, no more than 200 model A cars and 170 model B cars can be made daily. To satisfy a shipping contract, a total of at least 200 cars much be shipped each day. If each model A car sold results in a USD 2000 loss, but each model B car produces a $5000 profit, how many of each type should be made daily to maximize net profits?<br>"
   ]
  },
  {
   "cell_type": "markdown",
   "metadata": {},
   "source": [
    "<b>Solution</b><br>\n",
    "\n",
    "Installing virtual environment (not necessary but it helps to maintain dependencies for different projects.)<br>\n",
    "Type the following commands in terminal.<br>\n",
    "<b>python -m venv test<br>\n",
    "source activate test<br>\n",
    "pip install pulp<br>\n",
    "pulptest<br>\n",
    "python3<br></b>"
   ]
  },
  {
   "cell_type": "markdown",
   "metadata": {},
   "source": [
    "As our problem has two decision variables, Car model A and Car model B, let's assume them as <b>X</b> and <b>Y</b>.<br>\n",
    "Constraints are as follows:<br>\n",
    "100 $\\leq$ X $\\leq$ 200<br>\n",
    "80 $\\leq$ Y $\\leq$ 170<br>\n",
    "X + Y $\\leq$ 200<br>\n",
    "\n",
    "Our objective function, <b>Z</b> = -2000X + 5000Y.<br> <b> It is a maximaization problem as we are supposed to maximize the profit.</b><br>\n",
    "\n",
    "And finally, The non-negativity constraints:<br>\n",
    "X $\\geq$ 0<br>\n",
    "Y $\\geq$ 0<br>"
   ]
  },
  {
   "cell_type": "code",
   "execution_count": 42,
   "metadata": {},
   "outputs": [],
   "source": [
    "import pulp\n",
    "problem = pulp.LpProblem(\"Maximization Problem\", pulp.LpMaximize) \n",
    "#Here we instantiated the problem class and named it as Maximazation Problem.\n",
    "#LpMaximize is used for maximization problems while LpMinimize is used for minimization problems."
   ]
  },
  {
   "cell_type": "code",
   "execution_count": 43,
   "metadata": {},
   "outputs": [],
   "source": [
    "X = pulp.LpVariable('X', lowBound = 100, upBound = 200, cat = 'Continuous')\n",
    "Y = pulp.LpVariable('Y', lowBound = 80, upBound = 170, cat = 'Continuous')\n",
    "#We chose lower bound as 100 and not zero becuase we are finding the optimal solution. Same case for Y as well.\n",
    "#As we are dealing with real number system, we chose cat as Continuous number. Other types are Binary, Integer etc.\n",
    "#X = pulp.LpVariable('X', upBound = 200, cat = 'Continuous')\n",
    "#Y = pulp.LpVariable('Y', upBound = 170, cat = 'Continuous')"
   ]
  },
  {
   "cell_type": "code",
   "execution_count": 44,
   "metadata": {},
   "outputs": [],
   "source": [
    "problem += 5000 * Y - 2000 * X, \"Z\" #Our objective function. \n",
    "problem += Y <= 200 - X"
   ]
  },
  {
   "cell_type": "code",
   "execution_count": 45,
   "metadata": {},
   "outputs": [
    {
     "data": {
      "text/plain": [
       "Maximization Problem:\n",
       "MAXIMIZE\n",
       "-2000*X + 5000*Y + 0\n",
       "SUBJECT TO\n",
       "_C1: X + Y <= 200\n",
       "\n",
       "VARIABLES\n",
       "100 <= X <= 200 Continuous\n",
       "80 <= Y <= 170 Continuous"
      ]
     },
     "execution_count": 45,
     "metadata": {},
     "output_type": "execute_result"
    }
   ],
   "source": [
    "problem"
   ]
  },
  {
   "cell_type": "code",
   "execution_count": 54,
   "metadata": {},
   "outputs": [
    {
     "data": {
      "text/plain": [
       "'Optimal'"
      ]
     },
     "execution_count": 54,
     "metadata": {},
     "output_type": "execute_result"
    }
   ],
   "source": [
    "problem.solve()\n",
    "pulp.LpStatus[problem.status]    #To check whether the problem has optimality or not."
   ]
  },
  {
   "cell_type": "code",
   "execution_count": 52,
   "metadata": {},
   "outputs": [
    {
     "name": "stdout",
     "output_type": "stream",
     "text": [
      "X = 100.0\n",
      "Y = 100.0\n"
     ]
    }
   ],
   "source": [
    "for variable in problem.variables():\n",
    "    print(variable.name , '=', variable.varValue)"
   ]
  },
  {
   "cell_type": "code",
   "execution_count": 53,
   "metadata": {},
   "outputs": [
    {
     "name": "stdout",
     "output_type": "stream",
     "text": [
      "300000.0\n"
     ]
    }
   ],
   "source": [
    "print(pulp.value(problem.objective))  #Maximum Profit"
   ]
  },
  {
   "cell_type": "markdown",
   "metadata": {},
   "source": [
    "<b>Uses of Linear Programming</b>\n",
    "<ul><li>Production Management</li>\n",
    "    <li>Inventory Management</li>\n",
    "    <li>Diet Management <i>(To find the cheapest combination of foods that will satisfy all our nutritional requirements.)</i></li>\n",
    "    <li>Travelling Salesman Problem</li></ul>\n",
    "    \n",
    "    "
   ]
  },
  {
   "cell_type": "markdown",
   "metadata": {},
   "source": [
    "You can vallidate the above solution on the this [link](http://www.wolframalpha.com/widget/widgetPopup.jsp?p=v&id=1e692c6f72587b2cbd3e7be018fd8960&title=Linear%20Programming%20Calculator&theme=blue).<br>"
   ]
  }
 ],
 "metadata": {
  "kernelspec": {
   "display_name": "Python 3",
   "language": "python",
   "name": "python3"
  },
  "language_info": {
   "codemirror_mode": {
    "name": "ipython",
    "version": 3
   },
   "file_extension": ".py",
   "mimetype": "text/x-python",
   "name": "python",
   "nbconvert_exporter": "python",
   "pygments_lexer": "ipython3",
   "version": "3.6.4"
  }
 },
 "nbformat": 4,
 "nbformat_minor": 2
}
